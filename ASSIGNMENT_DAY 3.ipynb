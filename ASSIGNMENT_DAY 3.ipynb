{
 "cells": [
  {
   "cell_type": "markdown",
   "metadata": {},
   "source": [
    "# ASSIGNMENT 3"
   ]
  },
  {
   "cell_type": "markdown",
   "metadata": {},
   "source": [
    "# QUESTION 1"
   ]
  },
  {
   "cell_type": "code",
   "execution_count": 1,
   "metadata": {},
   "outputs": [
    {
     "data": {
      "text/plain": [
       "array([ 2,  5,  8, 11, 14, 17, 20, 23, 26, 29, 32, 35, 38, 41, 44, 47])"
      ]
     },
     "execution_count": 1,
     "metadata": {},
     "output_type": "execute_result"
    }
   ],
   "source": [
    "import numpy as np\n",
    "\n",
    "np.arange(2,50,3)"
   ]
  },
  {
   "cell_type": "markdown",
   "metadata": {},
   "source": [
    "# QUESTION 2"
   ]
  },
  {
   "cell_type": "code",
   "execution_count": 2,
   "metadata": {},
   "outputs": [
    {
     "name": "stdout",
     "output_type": "stream",
     "text": [
      "Enter elements of List1 : \n",
      "9\n",
      "3\n",
      "1\n",
      "7\n",
      "4\n",
      "Enter elements of List2 : \n",
      "10\n",
      "2\n",
      "8\n",
      "5\n",
      "6\n",
      "list1: [9, 3, 1, 7, 4]\n",
      "list2: [10, 2, 8, 5, 6]\n",
      "array1: [9 3 1 7 4]\n",
      "array2: [10  2  8  5  6]\n",
      "concatenated array: [ 9  3  1  7  4 10  2  8  5  6]\n",
      "sorted array1:\n",
      "[1 3 4 7 9]\n",
      "sorted array2:\n",
      "[ 2  5  6  8 10]\n",
      "sorted concatenated array:\n",
      "[ 1  2  3  4  5  6  7  8  9 10]\n"
     ]
    }
   ],
   "source": [
    "import numpy as np\n",
    "list1=[]\n",
    "list2=[]\n",
    "print(\"Enter elements of List1 : \")\n",
    "for i in range(0,5):\n",
    "    n = int(input())\n",
    "    list1.append(n)\n",
    "print(\"Enter elements of List2 : \")\n",
    "for i in range(0,5):\n",
    "    m = int(input())\n",
    "    list2.append(m)\n",
    "a1 = np.array(list1)\n",
    "a2 = np.array(list2)\n",
    "\n",
    "print(\"list1:\",list1)\n",
    "print(\"list2:\",list2)\n",
    "print(\"array1:\",a1)\n",
    "print(\"array2:\",a2)\n",
    "\n",
    "a3=np.array(np.concatenate((a1,a2)))\n",
    "print(\"concatenated array:\",a3)\n",
    "print(\"sorted array1:\")\n",
    "print(np.sort(a1))\n",
    "print(\"sorted array2:\")\n",
    "print(np.sort(a2))\n",
    "print(\"sorted concatenated array:\")\n",
    "print(np.sort(a3))\n",
    "\n"
   ]
  },
  {
   "cell_type": "markdown",
   "metadata": {},
   "source": [
    "# QUESTION 3"
   ]
  },
  {
   "cell_type": "code",
   "execution_count": 8,
   "metadata": {},
   "outputs": [
    {
     "name": "stdout",
     "output_type": "stream",
     "text": [
      "[[ 1  2  3  4]\n",
      " [ 5  6  7  8]\n",
      " [ 9 10 11 12]]\n",
      "DIMENTION :  2 \n",
      "SIZE :  12\n"
     ]
    }
   ],
   "source": [
    "a=np.array([[1,  2,  3,  4],\n",
    "            [5,  6,  7,  8],\n",
    "            [9, 10, 11, 12]])\n",
    "print(a)\n",
    "print(\"DIMENTION : \",a.ndim,\"\\nSIZE : \",a.size)"
   ]
  },
  {
   "cell_type": "markdown",
   "metadata": {},
   "source": [
    "# QUESTION 4"
   ]
  },
  {
   "cell_type": "code",
   "execution_count": 9,
   "metadata": {},
   "outputs": [
    {
     "name": "stdout",
     "output_type": "stream",
     "text": [
      "1D ARRAY: [1 2 3 4]\n",
      "reshaped 2D:\n",
      " [[1 2]\n",
      " [3 4]]\n"
     ]
    }
   ],
   "source": [
    "import numpy as np\n",
    "array1=np.array([1,2,3,4])\n",
    "print(\"1D ARRAY:\",array1)\n",
    "rearr=np.reshape(array1,(-1,2))\n",
    "print(\"reshaped 2D:\\n\",rearr)"
   ]
  },
  {
   "cell_type": "code",
   "execution_count": 10,
   "metadata": {},
   "outputs": [
    {
     "name": "stdout",
     "output_type": "stream",
     "text": [
      "[[ 3]\n",
      " [ 5]\n",
      " [10]\n",
      " [ 1]\n",
      " [ 4]]\n"
     ]
    }
   ],
   "source": [
    "import numpy as np\n",
    "x = np.array([3,5,10,1,4])\n",
    "y = x[:,np.newaxis]\n",
    "print(y)"
   ]
  },
  {
   "cell_type": "markdown",
   "metadata": {},
   "source": [
    "# QUESTION 5"
   ]
  },
  {
   "cell_type": "code",
   "execution_count": 11,
   "metadata": {},
   "outputs": [
    {
     "name": "stdout",
     "output_type": "stream",
     "text": [
      "VERTICAL STACK: \n",
      " [[0 1]\n",
      " [2 3]\n",
      " [4 5]\n",
      " [6 7]]\n",
      "HORIZONTAL STACK: \n",
      " [[0 1 4 5]\n",
      " [2 3 6 7]]\n"
     ]
    }
   ],
   "source": [
    "import numpy as np\n",
    "arr1=np.array([[0,1],[2,3]])\n",
    "arr2=np.array([[4,5],[6,7]])\n",
    "print(\"VERTICAL STACK: \\n\",np.vstack((arr1,arr2)))\n",
    "print(\"HORIZONTAL STACK: \\n\",np.hstack((arr1,arr2)))"
   ]
  },
  {
   "cell_type": "markdown",
   "metadata": {},
   "source": [
    "# QUESTION 6"
   ]
  },
  {
   "cell_type": "raw",
   "metadata": {},
   "source": [
    "In order to get unique items we can use numpy.unique() function in order to get count we can use np.count_nonzero(np.unique())"
   ]
  },
  {
   "cell_type": "code",
   "execution_count": 13,
   "metadata": {},
   "outputs": [
    {
     "data": {
      "text/plain": [
       "array([0, 1, 2, 3, 4, 5, 6])"
      ]
     },
     "execution_count": 13,
     "metadata": {},
     "output_type": "execute_result"
    }
   ],
   "source": [
    "a= np.array([0, 1, 2, 3, 1, 4, 5, 6,6])\n",
    "np.unique(a)"
   ]
  },
  {
   "cell_type": "code",
   "execution_count": 14,
   "metadata": {},
   "outputs": [
    {
     "data": {
      "text/plain": [
       "6"
      ]
     },
     "execution_count": 14,
     "metadata": {},
     "output_type": "execute_result"
    }
   ],
   "source": [
    "np.count_nonzero(np.unique(a))"
   ]
  },
  {
   "cell_type": "code",
   "execution_count": null,
   "metadata": {},
   "outputs": [],
   "source": []
  }
 ],
 "metadata": {
  "kernelspec": {
   "display_name": "Python 3",
   "language": "python",
   "name": "python3"
  },
  "language_info": {
   "codemirror_mode": {
    "name": "ipython",
    "version": 3
   },
   "file_extension": ".py",
   "mimetype": "text/x-python",
   "name": "python",
   "nbconvert_exporter": "python",
   "pygments_lexer": "ipython3",
   "version": "3.7.4"
  }
 },
 "nbformat": 4,
 "nbformat_minor": 2
}
