{
 "cells": [
  {
   "cell_type": "markdown",
   "metadata": {},
   "source": [
    "# ASSIGNMENT DAY1"
   ]
  },
  {
   "cell_type": "raw",
   "metadata": {},
   "source": [
    "# QUESTION 1\n",
    "b) RAINBOW"
   ]
  },
  {
   "cell_type": "code",
   "execution_count": 1,
   "metadata": {},
   "outputs": [
    {
     "name": "stdout",
     "output_type": "stream",
     "text": [
      "LETS UPGRADE\n"
     ]
    }
   ],
   "source": [
    "# QUESTION 2\n",
    "print(\"LETS UPGRADE\")"
   ]
  },
  {
   "cell_type": "code",
   "execution_count": 1,
   "metadata": {},
   "outputs": [
    {
     "name": "stdout",
     "output_type": "stream",
     "text": [
      "Enter the cost price \t100\n",
      "Enter the selling price \t200\n",
      "PROFIT\n"
     ]
    }
   ],
   "source": [
    "#Question 3\n",
    "cost_price=input(\"Enter the cost price \\t\")\n",
    "sell_price=input(\"Enter the selling price \\t\")\n",
    "if(sell_price>cost_price):\n",
    "    print(\"PROFIT\")\n",
    "elif(sell_price==cost_price):\n",
    "    print(\"NEITHER\")\n",
    "else:\n",
    "    print(\"LOSS\")"
   ]
  },
  {
   "cell_type": "code",
   "execution_count": 2,
   "metadata": {},
   "outputs": [
    {
     "name": "stdout",
     "output_type": "stream",
     "text": [
      "1000\n",
      "1000\n",
      "NEITHER\n"
     ]
    }
   ],
   "source": [
    "#Question 4\n",
    "cost_price=input(\"\")\n",
    "sell_price=input(\"\")\n",
    "if(sell_price>cost_price):\n",
    "    print(\"PROFIT\")\n",
    "elif(sell_price==cost_price):\n",
    "    print(\"NEITHER\")\n",
    "else:\n",
    "    print(\"LOSS\")"
   ]
  },
  {
   "cell_type": "code",
   "execution_count": 3,
   "metadata": {},
   "outputs": [
    {
     "name": "stdout",
     "output_type": "stream",
     "text": [
      "20\n",
      "1600\n"
     ]
    }
   ],
   "source": [
    "# QUESTION 5\n",
    "euro=int(input(\"\"))\n",
    "print(euro*80)"
   ]
  },
  {
   "cell_type": "code",
   "execution_count": null,
   "metadata": {},
   "outputs": [],
   "source": []
  }
 ],
 "metadata": {
  "kernelspec": {
   "display_name": "Python 3",
   "language": "python",
   "name": "python3"
  },
  "language_info": {
   "codemirror_mode": {
    "name": "ipython",
    "version": 3
   },
   "file_extension": ".py",
   "mimetype": "text/x-python",
   "name": "python",
   "nbconvert_exporter": "python",
   "pygments_lexer": "ipython3",
   "version": "3.7.4"
  }
 },
 "nbformat": 4,
 "nbformat_minor": 2
}
